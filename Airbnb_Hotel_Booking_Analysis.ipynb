{
  "nbformat": 4,
  "nbformat_minor": 0,
  "metadata": {
    "colab": {
      "private_outputs": true,
      "provenance": []
    },
    "kernelspec": {
      "name": "python3",
      "display_name": "Python 3"
    },
    "language_info": {
      "name": "python"
    }
  },
  "cells": [
    {
      "cell_type": "code",
      "execution_count": null,
      "metadata": {
        "id": "HaaSMYInCf1l"
      },
      "outputs": [],
      "source": [
        "# Import Libraries\n",
        "import pandas as pd\n",
        "import numpy as np\n",
        "import matplotlib.pyplot as plt\n",
        "import seaborn as sns"
      ]
    },
    {
      "cell_type": "code",
      "source": [
        "from google.colab import drive\n",
        "drive.mount('/content/drive')\n"
      ],
      "metadata": {
        "id": "GeLcdrhTEtpV"
      },
      "execution_count": null,
      "outputs": []
    },
    {
      "cell_type": "code",
      "source": [
        "# Load Data\n",
        "import os\n",
        "\n",
        "data_path = '/content/drive/MyDrive/Airbnb Hotel data set/'\n",
        "excel_file = data_path + '1730285881-Airbnb_Open_Data.xlsx'\n",
        "df = pd.read_excel(excel_file)\n",
        "print(f\"Dataset loaded successfully! Shape: {df.shape}\")\n",
        "print(f\"\\nColumns: {list(df.columns)}\")\n",
        "df.head()"
      ],
      "metadata": {
        "id": "W9IZvMHTICae"
      },
      "execution_count": null,
      "outputs": []
    },
    {
      "cell_type": "code",
      "source": [
        "# 1. Booking Patterns Analysis\n",
        "if 'last review' in df.columns:\n",
        "    df['last review'] = pd.to_datetime(df['last review'], errors='coerce')\n",
        "    booking_data = df[df['last review'].notna()]\n",
        "    if len(booking_data) > 0:\n",
        "        plt.figure(figsize=(10, 6))\n",
        "        booking_data.set_index('last review').resample('M').size().plot()\n",
        "        plt.title('Monthly Booking Trends')\n",
        "        plt.xlabel('Month')\n",
        "        plt.ylabel('Reviews')\n",
        "        plt.xticks(rotation=45)\n",
        "        plt.tight_layout()\n",
        "        plt.show()\n",
        "        print(f\"Total: {len(booking_data)}\")\n",
        "    else:\n",
        "        print(\"No valid date data.\")\n",
        "else:\n",
        "    print(\"'last review' not found.\")"
      ],
      "metadata": {
        "id": "D6lAXvr2I5cK"
      },
      "execution_count": null,
      "outputs": []
    },
    {
      "cell_type": "code",
      "source": [
        "# 2. Pricing Strategies\n",
        "if 'price' in df.columns:\n",
        "    plt.figure(figsize=(10, 6))\n",
        "    sns.histplot(df['price'].dropna(), bins=50)\n",
        "    plt.title('Distribution of Listing Prices')\n",
        "    plt.xlabel('Price')\n",
        "    plt.ylabel('Count')\n",
        "    plt.show()\n",
        "\n",
        "    if 'neighbourhood' in df.columns:\n",
        "        plt.figure(figsize=(12, 6))\n",
        "        df.groupby('neighbourhood')['price'].mean().sort_values().tail(20).plot(kind='bar')\n",
        "        plt.title('Top 20 Neighbourhoods by Average Price')\n",
        "        plt.ylabel('Average Price')\n",
        "        plt.xticks(rotation=45)\n",
        "        plt.tight_layout()\n",
        "        plt.show()\n",
        "else:\n",
        "    print(\"'price' column not found.\")"
      ],
      "metadata": {
        "id": "JVVcVzWGJPbC"
      },
      "execution_count": null,
      "outputs": []
    },
    {
      "cell_type": "code",
      "source": [
        "# 3. Guest Preferences\n",
        "if 'room type' in df.columns:\n",
        "    plt.figure(figsize=(8, 5))\n",
        "    df['room type'].value_counts().plot(kind='bar')\n",
        "    plt.title('Guest Room Type Preferences')\n",
        "    plt.xlabel('Room Type')\n",
        "    plt.ylabel('Number of Listings')\n",
        "    plt.xticks(rotation=45)\n",
        "    plt.tight_layout()\n",
        "    plt.show()\n",
        "    print(\"\\nRoom Type Counts:\")\n",
        "    print(df['room type'].value_counts())\n",
        "else:\n",
        "    print(\"'room type' column not found.\")"
      ],
      "metadata": {
        "id": "uOzh88S0JajC"
      },
      "execution_count": null,
      "outputs": []
    },
    {
      "cell_type": "code",
      "source": [
        "# 4. Host Performance\n",
        "if 'host id' in df.columns and 'number of reviews' in df.columns:\n",
        "    host_reviews = df.groupby('host id')['number of reviews'].sum().sort_values(ascending=False)\n",
        "    plt.figure(figsize=(10, 5))\n",
        "    host_reviews.head(20).plot(kind='bar')\n",
        "    plt.title('Top 20 Hosts by Total Reviews')\n",
        "    plt.ylabel('Total Reviews')\n",
        "    plt.xlabel('Host ID')\n",
        "    plt.xticks(rotation=45)\n",
        "    plt.tight_layout()\n",
        "    plt.show()\n",
        "    print(f\"\\nTop 5 Hosts by Reviews:\")\n",
        "    print(host_reviews.head())\n",
        "else:\n",
        "    print(\"Required columns not found.\")"
      ],
      "metadata": {
        "id": "RLbWi4rwJnKr"
      },
      "execution_count": null,
      "outputs": []
    },
    {
      "cell_type": "code",
      "source": [
        "# 5. Summary Statistics Table\n",
        "import warnings\n",
        "warnings.filterwarnings('ignore')\n",
        "\n",
        "summary = {\n",
        "    'Total Listings': df.shape[0],\n",
        "    'Average Price': df['price'].mean() if 'price' in df.columns else None,\n",
        "    'Median Price': df['price'].median() if 'price' in df.columns else None,\n",
        "    'Most Common Room Type': df['room type'].mode()[0] if 'room type' in df.columns else None,\n",
        "    'Average Reviews': df['number of reviews'].mean() if 'number of reviews' in df.columns else None,\n",
        "    'Total Neighbourhoods': df['neighbourhood'].nunique() if 'neighbourhood' in df.columns else None\n",
        "}\n",
        "\n",
        "print(\"=\"*50)\n",
        "print(\"SUMMARY STATISTICS\")\n",
        "print(\"=\"*50)\n",
        "for key, value in summary.items():\n",
        "    print(f\"{key}: {value}\")\n",
        "print(\"=\"*50)"
      ],
      "metadata": {
        "id": "3-FhLLMcJ1MN"
      },
      "execution_count": null,
      "outputs": []
    }
  ]
}